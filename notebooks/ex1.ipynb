{
 "cells": [
  {
   "cell_type": "code",
   "execution_count": 6,
   "id": "d9c90261",
   "metadata": {},
   "outputs": [],
   "source": [
    "import pandas as pd\n",
    "\n",
    "ISRAEL_PLACES_CSV = \"..\\ex1\\israel_places_latin_names.csv\"\n",
    "\n",
    "with open(ISRAEL_PLACES_CSV) as file:\n",
    "    input_csv = pd.read_csv(file)"
   ]
  },
  {
   "cell_type": "code",
   "execution_count": 2,
   "id": "807a866a",
   "metadata": {},
   "outputs": [
    {
     "name": "stdout",
     "output_type": "stream",
     "text": [
      "באר שבע    180\n",
      "עכו        132\n",
      "עפולה      119\n",
      "אשקלון     107\n",
      "השרון       88\n",
      "Name: district_name, dtype: int64\n"
     ]
    }
   ],
   "source": [
    "COLUNM = \"district_name\"\n",
    "\n",
    "sorted_values = input_csv[COLUNM].value_counts()\n",
    "q1 = sorted_values.iloc[:5]\n",
    "print(q1)"
   ]
  },
  {
   "cell_type": "code",
   "execution_count": 3,
   "id": "2f1a384f",
   "metadata": {},
   "outputs": [
    {
     "name": "stdout",
     "output_type": "stream",
     "text": [
      "מטה יהודה     64\n",
      "עמק חפר       45\n",
      "עמק יזרעאל    39\n",
      "משגב          37\n",
      "הגלבוע        33\n",
      "Name: council_name, dtype: int64\n"
     ]
    }
   ],
   "source": [
    "COLUNM = \"council_name\"\n",
    "\n",
    "sorted_values = input_csv[COLUNM].value_counts()\n",
    "q2 = sorted_values.iloc[:5]\n",
    "print(q2)"
   ]
  },
  {
   "cell_type": "code",
   "execution_count": 4,
   "id": "4f55e49c",
   "metadata": {},
   "outputs": [
    {
     "name": "stdout",
     "output_type": "stream",
     "text": [
      "כפר      76\n",
      "בית      47\n",
      "עין      33\n",
      "(שבט)    24\n",
      "גבעת     17\n",
      "dtype: int64\n"
     ]
    }
   ],
   "source": [
    "COLUNM = \"settlement_name\"\n",
    "\n",
    "splited_values = \" \".join(input_csv[COLUNM].values.tolist()).split()\n",
    "sorted_values = pd.Series(splited_values).value_counts()\n",
    "q3 = sorted_values.iloc[:5]\n",
    "print(q3)"
   ]
  },
  {
   "cell_type": "code",
   "execution_count": 5,
   "id": "657d40d0",
   "metadata": {},
   "outputs": [
    {
     "name": "stdout",
     "output_type": "stream",
     "text": [
      "(שבט)    22\n",
      "אבו      10\n",
      "עין       6\n",
      "באר       4\n",
      "מחנה      4\n",
      "dtype: int64\n"
     ]
    }
   ],
   "source": [
    "COLUNM = \"district_name\"\n",
    "DISTRICT = \"באר שבע\"\n",
    "\n",
    "filtered_values = (input_csv[input_csv[COLUNM] == DISTRICT])[\"settlement_name\"]\n",
    "splited_values = \" \".join(filtered_values).split()\n",
    "sorted_values = pd.Series(splited_values).value_counts()\n",
    "q4 = sorted_values.iloc[:5]\n",
    "print(q4)"
   ]
  }
 ],
 "metadata": {
  "interpreter": {
   "hash": "9e299387491abe7f3efbb76afe1d7f602f298ef322f278f81a6de6b46d86e3a1"
  },
  "kernelspec": {
   "display_name": "hebnlp",
   "language": "python",
   "name": "python3"
  },
  "language_info": {
   "codemirror_mode": {
    "name": "ipython",
    "version": 3
   },
   "file_extension": ".py",
   "mimetype": "text/x-python",
   "name": "python",
   "nbconvert_exporter": "python",
   "pygments_lexer": "ipython3",
   "version": "3.9.1"
  }
 },
 "nbformat": 4,
 "nbformat_minor": 5
}
