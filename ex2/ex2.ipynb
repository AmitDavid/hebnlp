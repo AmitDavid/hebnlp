{
 "cells": [
  {
   "cell_type": "code",
   "execution_count": 5,
   "metadata": {
    "scrolled": false
   },
   "outputs": [
    {
     "name": "stdout",
     "output_type": "stream",
     "text": [
      "Loading article 1 out of 284\n",
      "Loading article 2 out of 284\n",
      "Loading article 3 out of 284\n",
      "Loading article 4 out of 284\n"
     ]
    }
   ],
   "source": [
    "# todo: final_all loc\n",
    "\n",
    "import pandas as pd\n",
    "import requests\n",
    "import time\n",
    "import re\n",
    "from bs4 import BeautifulSoup\n",
    "\n",
    "url = \"https://thinkil.co.il/texts-sitemap.xml\"\n",
    "res = requests.get(url)\n",
    "soup = BeautifulSoup(res.text)\n",
    "url_text = soup.get_text()\n",
    "url_text = url_text.splitlines()\n",
    "url_list = []\n",
    "for line in url_text:\n",
    "    if len(line) == 0:\n",
    "        continue\n",
    "    if 'https' in line:\n",
    "        if ('jpg' not in line) and ('png'not in line):\n",
    "            url_list.append(line)\n",
    "\n",
    "data_lst = []\n",
    "url_list = url_list[1:]\n",
    "\n",
    "for i, url_paper in enumerate(url_list):\n",
    "    url_0 = url_paper\n",
    "    res_0 = requests.get(url_0)\n",
    "    soup_0 = BeautifulSoup(res_0.text)\n",
    "\n",
    "    title = soup_0.find(\"h1\", {\"class\": \"page-title\"}).get_text().strip()\n",
    "    authors_set = set(author_name.get_text().strip()\n",
    "        for author_name in soup_0.find_all(\"span\", {\"class\": \"author-name\"}))\n",
    "\n",
    "    if len(authors_set) == 0:\n",
    "        authors = \"\"\n",
    "    else:\n",
    "        for author in authors_set:\n",
    "            authors = author + \", \"\n",
    "        authors = authors[:-2]\n",
    "        \n",
    "    main_text = soup_0.find(\"div\", {\"id\": \"content\"}).get_text()\n",
    "    main_text = main_text.replace(\"\\t\", \" \")\n",
    "    main_text = main_text.replace(\"\\r\", \" \")\n",
    "    main_text = main_text.replace(\"\\n\", \" \")\n",
    "    main_text = re.sub(' +', ' ', main_text)\n",
    "\n",
    "    data_lst.append([url_0, authors, title, main_text])\n",
    "\n",
    "    time.sleep(.4)\n",
    "    print(\"Loading article \" + str(i + 1) + \" out of \" + str(len(url_list) + 1))\n",
    "\n",
    "\n",
    "df = pd.DataFrame(data_lst, columns=[\"url\", \"author\", \"title\", \"text\"])\n",
    "df.to_csv('ex2_part1.tsv', sep=\"\\t\",  encoding=\"utf-8\")\n"
   ]
  },
  {
   "cell_type": "code",
   "execution_count": 3,
   "metadata": {},
   "outputs": [
    {
     "name": "stdout",
     "output_type": "stream",
     "text": [
      "4528 3466 3153 5741 3525 3762 5133 5317 5434 4282 9615 6795 7604 4365 4522 3412 4742 4399 4160 4002 2485 2696 3565 2645 2233 3066 3334 4464 3559 2832 3721 17502 3997 5390 4481 2480 4298 6851 3223 4628 6612 1869 9171 3974 4119 3254 5932 4109 3470 4279 4131 6724 7248 6678 4563 4921 6899 5188 5763 3102 6941 3280 3516 26762 4346 1966 1702 2813 5414 4020 3142 4618 4458 6388 2578 6237 3738 5402 3418 5135 2860 4436 3029 7046 3636 2878 4909 3125 4157 5229 717 4417 9305 3533 3978 3220 2658 2999 7048 6787 4091 2382 2424 2935 3514 3623 3997 7333 4675 5084 2883 1920 2839 1689 1387 3222 3134 4706 4364 2210 884 1074 2393 3461 2494 763 4403 2718 3669 1189 2418 3102 3299 2955 3913 3490 3322 3688 3746 3469 3061 3762 2640 4094 3602 4324 3340 2775 1288 4231 6581 5399 2631 3673 3486 1776 3664 2491 2029 1793 1025 231 3923 2232 2363 2679 3252 365 1582 2109 2050 2310 2022 1534 1677 2791 517 3534 1983 286 1667 1681 894 1235 1196 3688 1199 1205 1711 678 2398 815 1250 852 3295 571 1660 1152 629 1894 2733 2436 6993 6189 4967 5383 3597 3342 5699 3867 2883 4065 2114 2669 4832 3067 4881 3849 4394 1155 475 1067 992 798 126 489 384 1082 4345 2917 2769 5838 2685 2520 2513 3868 2498 3894 5923 5278 5725 5002 7523 5051 16055 4585 6607 6097 9763 706 1116 268 1294 1109 1126 243 898 1150 739 430 3047 1855 937 691 985 1882 1322 1143 934 1437 2070 1061 759 1690 1413 247 1152 3050 795 1463 821 445 1898 "
     ]
    },
    {
     "data": {
      "image/png": "[encoded data removed]",
      "text/plain": [
       "<Figure size 432x288 with 1 Axes>"
      ]
     },
     "metadata": {
      "needs_background": "light"
     },
     "output_type": "display_data"
    }
   ],
   "source": [
    "import pandas as pd\n",
    "import matplotlib.pyplot as plt\n",
    "\n",
    "# first function\n",
    "def divide_by_whitespace(text):\n",
    "    return text.split()\n",
    "\n",
    "def main():\n",
    "    num_of_words = []\n",
    "    data_frame = pd.read_csv('D:\\\\Documents\\\\hebrew\\\\ex2\\\\ex2_part1.tsv', sep='\\t')\n",
    "    # all_words = []\n",
    "    for index, row in data_frame.iterrows():\n",
    "        paper_words = divide_by_whitespace(row['text'])\n",
    "\n",
    "        # Q2 - Add to list\n",
    "        num_of_words.append(len(paper_words))\n",
    "        print(len(paper_words), end=\" \")\n",
    "\n",
    "    plt.hist(num_of_words)\n",
    "\n",
    "        # Q3  - find 20 most common words and print histogram\n",
    "        \n",
    "\n",
    "        # all_words = all_words + paper_words\n",
    "        \n",
    "    # return all_words\n",
    "\n",
    "main()"
   ]
  },
  {
   "cell_type": "code",
   "execution_count": null,
   "metadata": {},
   "outputs": [],
   "source": [
    "# second function"
   ]
  },
  {
   "cell_type": "code",
   "execution_count": null,
   "metadata": {},
   "outputs": [],
   "source": []
  }
 ],
 "metadata": {
  "interpreter": {
   "hash": "28fee0240f78ac23d5c959c0e252425b5af28caa0a88de635fe8d7b9a9cb17ea"
  },
  "kernelspec": {
   "display_name": "hebnlp",
   "language": "python",
   "name": "hebnlp"
  },
  "language_info": {
   "codemirror_mode": {
    "name": "ipython",
    "version": 3
   },
   "file_extension": ".py",
   "mimetype": "text/x-python",
   "name": "python",
   "nbconvert_exporter": "python",
   "pygments_lexer": "ipython3",
   "version": "3.9.1"
  }
 },
 "nbformat": 4,
 "nbformat_minor": 2
}
