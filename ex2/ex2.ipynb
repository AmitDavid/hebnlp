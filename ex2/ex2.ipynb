{
 "cells": [
  {
   "cell_type": "code",
   "execution_count": 5,
   "metadata": {
    "scrolled": false
   },
   "outputs": [
    {
     "name": "stdout",
     "output_type": "stream",
     "text": [
      "Loading article 1 out of 284\n",
      "Loading article 2 out of 284\n",
      "Loading article 3 out of 284\n",
      "Loading article 4 out of 284\n"
     ]
    }
   ],
   "source": [
    "# todo: final_all loc\n",
    "\n",
    "import pandas as pd\n",
    "import requests\n",
    "import time\n",
    "import re\n",
    "from bs4 import BeautifulSoup\n",
    "\n",
    "url = \"https://thinkil.co.il/texts-sitemap.xml\"\n",
    "res = requests.get(url)\n",
    "soup = BeautifulSoup(res.text)\n",
    "url_text = soup.get_text()\n",
    "url_text = url_text.splitlines()\n",
    "url_list = []\n",
    "for line in url_text:\n",
    "    if len(line) == 0:\n",
    "        continue\n",
    "    if 'https' in line:\n",
    "        if ('jpg' not in line) and ('png'not in line):\n",
    "            url_list.append(line)\n",
    "\n",
    "data_lst = []\n",
    "\n",
    "for i, url_paper in enumerate(url_list):\n",
    "    url_0 = url_paper\n",
    "    res_0 = requests.get(url_0)\n",
    "    soup_0 = BeautifulSoup(res_0.text)\n",
    "\n",
    "    title = soup_0.find(\"h1\", {\"class\": \"page-title\"}).get_text().strip()\n",
    "    authors = set(author_name.get_text().strip()\n",
    "                  for author_name in soup_0.find_all(\"span\", {\"class\": \"author-name\"}))\n",
    "\n",
    "    main_text = soup_0.find(\"div\", {\"id\": \"content\"}).get_text()\n",
    "    main_text = main_text.replace(\"\\t\", \" \")\n",
    "    main_text = main_text.replace(\"\\r\", \" \")\n",
    "    main_text = main_text.replace(\"\\n\", \" \")\n",
    "    main_text = re.sub(' +', ' ', main_text)\n",
    "\n",
    "    data_lst.append([url_0, authors, title, main_text])\n",
    "\n",
    "    time.sleep(.4)\n",
    "    print(\"Loading article \" + str(i + 1) + \" out of \" + str(len(url_list) + 1))\n",
    "\n",
    "\n",
    "df = pd.DataFrame(data_lst, columns=[\"url\", \"author\", \"title\", \"text\"])\n",
    "df.to_csv('ex2_part1.tsv', sep=\"\\t\",  encoding=\"utf-8\")\n"
   ]
  },
  {
   "cell_type": "code",
   "execution_count": null,
   "metadata": {},
   "outputs": [],
   "source": [
    "# first function\n",
    "def divide_by_whitespace(data_frame):\n",
    "    all_words = []\n",
    "    for index, row in data_frame.iterrows():\n",
    "        paper_words = row['text'].split()\n",
    "        all_words = all_words + paper_words\n",
    "        \n",
    "    return all_words\n",
    "    \n",
    "#print(divide_by_whitespace(df))"
   ]
  },
  {
   "cell_type": "code",
   "execution_count": null,
   "metadata": {},
   "outputs": [],
   "source": [
    "# second function"
   ]
  },
  {
   "cell_type": "code",
   "execution_count": null,
   "metadata": {},
   "outputs": [],
   "source": []
  }
 ],
 "metadata": {
  "kernelspec": {
   "display_name": "Python 3",
   "language": "python",
   "name": "python3"
  },
  "language_info": {
   "codemirror_mode": {
    "name": "ipython",
    "version": 3
   },
   "file_extension": ".py",
   "mimetype": "text/x-python",
   "name": "python",
   "nbconvert_exporter": "python",
   "pygments_lexer": "ipython3",
   "version": "3.9.1"
  }
 },
 "nbformat": 4,
 "nbformat_minor": 2
}
