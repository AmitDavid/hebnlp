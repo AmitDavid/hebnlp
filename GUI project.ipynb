{
 "cells": [
  {
   "cell_type": "code",
   "execution_count": 3,
   "id": "cdc028ec",
   "metadata": {},
   "outputs": [],
   "source": [
    "import PySimpleGUI as sg\n",
    "import emoji\n",
    "\n",
    "from pilmoji import Pilmoji\n",
    "from PIL import Image, ImageFont\n",
    "\n",
    "def save_emoji_as_img(text):\n",
    "    my_string = text\n",
    "\n",
    "    with Image.new('RGB', (400, 80), (0, 0, 0)) as image:\n",
    "        font = ImageFont.truetype('arial.ttf', 50)\n",
    "\n",
    "        with Pilmoji(image) as pilmoji:\n",
    "            pilmoji.text((10, 10), my_string, (0, 0, 0), font)\n",
    "\n",
    "            im1 = image.save(\"emoji_img.png\", \"PNG\")\n",
    "# ------------------------------------------------------------------------\n",
    "\n",
    "sg.theme('Black')   \n",
    "layout = [[sg.Push(), sg.Image(r'Picture2.png'), sg.Push()],\n",
    "          [sg.Text('')],\n",
    "          [sg.Push(),sg.Text('הכנס טקסט ולסיום לחץ אנטר',font = 'Arial 18', text_color='white'),sg.Push()],[sg.Text('')],\n",
    "        [sg.Push(), sg.InputText(justification='r',font = 'Arial 18',key='-INPUT-',expand_y =True)],\n",
    "         [sg.Push(), sg.Image(key='-OUTPUT-'),sg.Push()],\n",
    "          [sg.Button('! עוד אחד', font = 'Arial 16'), sg.Push()]]\n",
    "\n",
    "\n",
    "window = sg.Window('התאמת אימוגי לטקסט בעברית',layout, return_keyboard_events=True, finalize=True)\n",
    "while True:\n",
    "    event, values = window.read()\n",
    "    if event == sg.WIN_CLOSED : \n",
    "        break\n",
    "    if event == '! עוד אחד': \n",
    "        window['-INPUT-'].update(\"\")\n",
    "        window['-OUTPUT-'].update(\"\")\n",
    "        # todo: האם \\r הוא תמיד אנטר בכל מערכת.\n",
    "    if event == \"\\r\": \n",
    "        str_emoji = \"        😁 💯\"\n",
    "        save_emoji_as_img(str_emoji)\n",
    "        \n",
    "        window['-OUTPUT-'].update(r'emoji_img.png')\n",
    "        \n",
    "window.close()\n",
    "\n",
    "#Hello, world! 👋 Here are some emojis: 🎨 🌊 😎\n",
    "#I also support Discord emoji: <:rooThink:596576798351949847>\n",
    "\n",
    "#print('You entered ', values[0])"
   ]
  },
  {
   "cell_type": "code",
   "execution_count": null,
   "id": "82539c0b",
   "metadata": {},
   "outputs": [],
   "source": []
  }
 ],
 "metadata": {
  "kernelspec": {
   "display_name": "hebnlp",
   "language": "python",
   "name": "hebnlp"
  },
  "language_info": {
   "codemirror_mode": {
    "name": "ipython",
    "version": 3
   },
   "file_extension": ".py",
   "mimetype": "text/x-python",
   "name": "python",
   "nbconvert_exporter": "python",
   "pygments_lexer": "ipython3",
   "version": "3.9.1"
  }
 },
 "nbformat": 4,
 "nbformat_minor": 5
}
